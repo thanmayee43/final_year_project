{
  "cells": [
    {
      "cell_type": "code",
      "execution_count": null,
      "metadata": {
        "colab": {
          "base_uri": "https://localhost:8080/"
        },
        "id": "RJc0T7n4IgfI",
        "outputId": "0614df3c-76d5-4827-853b-1b0ddb6663ae"
      },
      "outputs": [
        {
          "output_type": "stream",
          "name": "stdout",
          "text": [
            "enter the number of total fog nodes 20\n",
            "20\n"
          ]
        }
      ],
      "source": [
        "import math\n",
        "import random\n",
        "Ntotal = int(input('enter the number of total fog nodes '))\n",
        "print(Ntotal)"
      ]
    },
    {
      "cell_type": "code",
      "execution_count": null,
      "metadata": {
        "colab": {
          "base_uri": "https://localhost:8080/"
        },
        "id": "fUU9qwnW_7LI",
        "outputId": "2b151c60-f727-4b52-d132-f39d4b59c350"
      },
      "outputs": [
        {
          "output_type": "stream",
          "name": "stdout",
          "text": [
            "[2, 1.7251027124879745, 5.408971679908728, 2.5619174724133824, 6.67291035391719, 2.220426236933763, 8.069253697562486, 5.529247453201682, 1.7686279848555904, 7.527683203125486, 6.526501261963583, 5.931270880362401, 5.750240819199267, 6.030595775496436, 3.374947442161486, 4.75668268001846, 2.761793705577506, 3.6035661525531237, 8.624480470561679, 3.026792441409976, 3.2645499018660096]\n",
            "[0.5, 0.8902263240963266, 0.8544511395852299, 1.0068159674754324, 1.0467071751124035, 1.2103515294128597, 1.6407635865000607, 0.7085453018696315, 0.9086533093558791, 0.6765533961164383, 1.4835727226167776, 0.6023792708983864, 1.5242505725081288, 0.778011880768018, 0.65398776595389, 0.961902980479844, 0.7073065681707937, 1.4645263426856505, 0.4160456150438929, 1.3330652387362432, 0.8643857658650047]\n"
          ]
        }
      ],
      "source": [
        "\n",
        "C = [] #computing rate of terminal node and fog nodes\n",
        "C.append(2) #Computing rate of the terminal node 2 Mbps\n",
        "for i in range(1,Ntotal+1):\n",
        "  temp=random.gauss(5,2)\n",
        "  C.append(temp)\n",
        "print(C)\n",
        "\n",
        "Pc = [] #computing power of terminal node and fog nodes\n",
        "Pc.append(0.5) #Computing power of the terminal node 0.5 W\n",
        "for i in range(1,Ntotal+1):\n",
        "  temp=random.gauss(1,0.3)\n",
        "  Pc.append(temp)\n",
        "print(Pc)"
      ]
    },
    {
      "cell_type": "code",
      "execution_count": null,
      "metadata": {
        "colab": {
          "base_uri": "https://localhost:8080/"
        },
        "id": "a8A4AUvgA_gh",
        "outputId": "ec4ef041-b129-4a7d-add7-73186d363dc9"
      },
      "outputs": [
        {
          "output_type": "stream",
          "name": "stdout",
          "text": [
            "[0, 1, 1, 2, 1, 2, 2, 1, 2, 2, 1, 1, 1, 1, 1, 1, 1, 1, 1, 1, 1]\n"
          ]
        }
      ],
      "source": [
        "lamda=[] #priority parameter of each fog node without lamda[0]\n",
        "lamda.append(0)\n",
        "count = 0\n",
        "for i in range(1,Ntotal+1):\n",
        "    k=(random.randint(1,2))\n",
        "    if k==2:\n",
        "      count+=1\n",
        "    if count > 5:\n",
        "      k=1\n",
        "    lamda.append(k)\n",
        "print(lamda)"
      ]
    },
    {
      "cell_type": "code",
      "execution_count": null,
      "metadata": {
        "colab": {
          "base_uri": "https://localhost:8080/"
        },
        "id": "m65DAKKVkL9O",
        "outputId": "628be85e-b20a-45c6-d942-676b6543bfc4"
      },
      "outputs": [
        {
          "output_type": "stream",
          "name": "stdout",
          "text": [
            "[19, 22, 18, 20, 18, 21, 21, 21, 23, 21, 19, 18, 21, 18, 21, 21, 22, 18, 23, 21]\n"
          ]
        }
      ],
      "source": [
        "# generate random integer values\n",
        "from random import seed\n",
        "from random import randint\n",
        "# seed random number generator\n",
        "seed(1)\n",
        "dis=[]\n",
        "# generate some integers\n",
        "for j in range(Ntotal):\n",
        "\tdis.append(randint(18, 23))\n",
        "print(dis)"
      ]
    },
    {
      "cell_type": "code",
      "execution_count": null,
      "metadata": {
        "colab": {
          "base_uri": "https://localhost:8080/"
        },
        "id": "vQtQV2d9Dk09",
        "outputId": "3db803bd-c16b-4d6f-b2e1-bcb7d32a08a7"
      },
      "outputs": [
        {
          "output_type": "stream",
          "name": "stdout",
          "text": [
            "[0, 69.92922009653734, 71.3198074594596, 69.4163727716915, 70.41575569468357, 69.4163727716915, 70.87854817566367, 70.87854817566367, 70.87854817566367, 71.74144859493963, 70.87854817566367, 69.92922009653734, 69.4163727716915, 70.87854817566367, 69.4163727716915, 70.87854817566367, 70.87854817566367, 71.3198074594596, 69.4163727716915, 71.74144859493963, 70.87854817566367]\n"
          ]
        }
      ],
      "source": [
        "T = []  #data transmission rate between terminal node and fog node without T[0]\n",
        "# for i in range(Ntotal):\n",
        "#     T.append(10)\n",
        "# print(T)\n",
        "T.append(0)\n",
        "for i in range(1,Ntotal+1):\n",
        "  y = 38.46+20*math.log(dis[i-1],10)\n",
        "  z=0.165*y/2179800\n",
        "  T.append(math.pow(10,7)*(math.log2(1+z)))\n",
        "print(T)"
      ]
    },
    {
      "cell_type": "code",
      "execution_count": null,
      "metadata": {
        "colab": {
          "base_uri": "https://localhost:8080/"
        },
        "id": "xIO-K5p1CL3X",
        "outputId": "af1937ef-fa32-407c-9329-465edc2fdaa1"
      },
      "outputs": [
        {
          "output_type": "stream",
          "name": "stdout",
          "text": [
            "[1, 1, 1, 1, 1, 1, 1, 1, 1, 1, 1, 1, 1, 1, 1, 1, 1, 1, 1, 1, 1]\n"
          ]
        }
      ],
      "source": [
        "Pt = [] #Transmission power from terminal node to fog node without Pt[0]\n",
        "for i in range(Ntotal+1):\n",
        "    Pt.append(1)\n",
        "print(Pt)"
      ]
    },
    {
      "cell_type": "code",
      "execution_count": null,
      "metadata": {
        "colab": {
          "base_uri": "https://localhost:8080/"
        },
        "id": "uMSylUwszoeU",
        "outputId": "9f93fccb-ecad-4de7-bbd6-0b2a39c84c0f"
      },
      "outputs": [
        {
          "output_type": "stream",
          "name": "stdout",
          "text": [
            "[0.13316528022862978, 0.4009131834982418, 0.29557671750065195, 0.051113579055024116, 0.1587148160881921, 0.011161055510661932, 0.32477306776274917, 0.004602469277192489, 0.4406169294610777, 0.3432419270895399, 0.48452032514704974, 0.3629263007232576, 0.2638147071811991, 0.38185049756574474, 0.4695835094742933, 0.27642978814648256, 0.17285020735437623, 0.3384242699249872, 0.3804738687709103, 0.47612222764559686, 0.463253311892933]\n"
          ]
        }
      ],
      "source": [
        "HE = [] #historical mean energy consumption for each fog node without HE[0]\n",
        "for i in range(0,Ntotal+1):\n",
        "  HE.append(random.uniform(0,0.5))\n",
        "print(HE)"
      ]
    },
    {
      "cell_type": "code",
      "execution_count": null,
      "metadata": {
        "id": "pDqDuqBYZdC6"
      },
      "outputs": [],
      "source": [
        "D = [] #delay of terminal node and fog nodes\n",
        "L = [] #Computing subtasks of terminal node and offloaded to fog nodes\n",
        "E = [] #energy consumption of terminal node and fog nodes\n",
        "M = [] #fairness scheduling metric for each fog node without M[0]\n",
        "HP = [] #historical mean power consumption for each fog node without HP[0]\n",
        "R = [] #data processing rate of each fog node without R[0]"
      ]
    },
    {
      "cell_type": "markdown",
      "metadata": {
        "id": "DZsCc8H96oAD"
      },
      "source": [
        "**A.System Model**"
      ]
    },
    {
      "cell_type": "code",
      "execution_count": null,
      "metadata": {
        "colab": {
          "base_uri": "https://localhost:8080/"
        },
        "id": "-j2Izv_K6unQ",
        "outputId": "546865b3-6518-4668-a015-118342e1749e"
      },
      "outputs": [
        {
          "output_type": "stream",
          "name": "stdout",
          "text": [
            "10000.0\n",
            "3000.0 350.0\n"
          ]
        }
      ],
      "source": [
        "L=0.01*math.pow(10,6)\n",
        "print(L)\n",
        "frac = 0.3 #fraction of task computed by terminal node\n",
        "Lt = frac*L \n",
        "Li = (1-frac)*L/Ntotal\n",
        "print(Lt,Li)\n"
      ]
    },
    {
      "cell_type": "markdown",
      "metadata": {
        "id": "_QOFbQuENU8x"
      },
      "source": [
        "**B.Task Delay**"
      ]
    },
    {
      "cell_type": "code",
      "execution_count": null,
      "metadata": {
        "colab": {
          "base_uri": "https://localhost:8080/"
        },
        "id": "Hi8bAYfB5xCw",
        "outputId": "b54a06f2-eaf2-47cd-a4e3-67952c065afa"
      },
      "outputs": [
        {
          "output_type": "stream",
          "name": "stdout",
          "text": [
            "maximum delay of all subtasks is 1500.0\n",
            "[0, 1.683570265428709, 5.027667885397506, 2.4707313506925415, 6.0952932426891575, 2.1516027727101563, 7.244495392826103, 5.129123655006572, 1.7255699457942688, 6.812827204059268, 5.976211338607416, 5.467525209813714, 5.310347788248722, 5.55772501476439, 3.2184690295720593, 4.457535974674758, 2.6582159073583136, 3.4302465542783276, 7.671368602906856, 2.9042608376649772, 3.1208104798819254]\n"
          ]
        }
      ],
      "source": [
        "D.append( Lt / C[0])\n",
        "R.append(0)\n",
        "for i in range(1,Ntotal+1):\n",
        "   k=1/((1/T[i])+(1/C[i]))\n",
        "   R.append(k)\n",
        "   D.append(Li/k)\n",
        "Dmax = max(D)\n",
        "print('maximum delay of all subtasks is '+ str(Dmax))\n",
        "print(R)"
      ]
    },
    {
      "cell_type": "markdown",
      "metadata": {
        "id": "a3kvyDKvb8Td"
      },
      "source": [
        "**Algo starts**"
      ]
    },
    {
      "cell_type": "code",
      "execution_count": null,
      "metadata": {
        "colab": {
          "base_uri": "https://localhost:8080/"
        },
        "id": "ZRhIG128b_mO",
        "outputId": "78c20a50-1d7a-4545-980a-7508c4e47cdb"
      },
      "outputs": [
        {
          "output_type": "stream",
          "name": "stdout",
          "text": [
            "the probabilities are [0, 0.0022195333314587572, 0.008990360818528826, 0.05109753994481595, 0.020298217243130762, 0.20378282806924702, 0.02357973341817102, 0.5890240580403917, 0.004139826557721346, 0.020981561204856662, 0.006519206073696409, 0.007962567269932485, 0.0106390959171442, 0.0076928002601061845, 0.003622573946766452, 0.008522966436107832, 0.008128325935787988, 0.005357283118251257, 0.010656848173898673, 0.0032240214606939293, 0.003560652779292536]\n",
            "these are indices [0, 1, 19, 20, 14, 8, 17, 10, 13, 11, 16, 15, 2, 12, 18, 4, 9, 6, 3, 5, 7]\n",
            "Lstar is [2060.0204291268296, 1734.0945703268098, 2991.418328551426, 3214.4666719949355]\n",
            "MinTaskDelay is 1030.0102145634148\n",
            "enrgy consumption for terminal node is 626.8519288206552\n",
            "Energy consumption total is 3690.328898845848\n",
            "updated Historical energy for terminal node and fog nodes is [24.95122831642952, 0.4009131834982418, 0.29557671750065195, 0.051113579055024116, 0.1587148160881921, 0.011161055510661932, 0.32477306776274917, 0.004602469277192489, 0.4406169294610777, 0.3432419270895399, 0.48452032514704974, 0.3629263007232576, 0.2638147071811991, 0.38185049756574474, 0.4695835094742933, 0.27642978814648256, 0.17285020735437623, 0.3384242699249872, 0.3804738687709103, 0.47612222764559686, 0.463253311892933, 18.290225018521703, 26.816313980560135, 17.476483349998055, 18.290225018521703, 26.816313980560135, 17.476483349998055]\n",
            "updated total historical enery is 104.23772523090665\n",
            "Jains Fairness index is 0.8082014916246667\n"
          ]
        }
      ],
      "source": [
        "alpha = 0.02\n",
        "Tasks = [1]\n",
        "N = 3 #given\n",
        "while len(Tasks)>0:\n",
        "  M=[]\n",
        "  Pr=[] # fog node 𝑖 is selected for task offloading according to the probability determined by the fairness scheduling metric\n",
        "  M.append(0) \n",
        "  Pr.append(0)\n",
        "  #compute the fairness scheduling metric for each of the Ntotal alternative fog nodes\n",
        "  for i in range(1,Ntotal+1):\n",
        "    M.append(lamda[i]*R[i]/HE[i])\n",
        "  #select N fog nodes out of Ntotal alternative fog nodes according to the probability defined\n",
        "  Sum = sum(M)\n",
        "  for i in range(1,Ntotal+1):\n",
        "    Pr.append( M[i]/Sum) \n",
        "  indices = sorted(range(len(Pr)),key=lambda index: Pr[index])\n",
        "  print('the probabilities are '+str(Pr))\n",
        "  print('these are indices '+ str(indices))\n",
        "  #step -2 \n",
        "  Lstar = []\n",
        "  con = 0\n",
        "  for i in range(1,N+1):\n",
        "    con += R[indices[i]]/C[0]\n",
        "  for i in range(1,N+1):\n",
        "    Lstar.append( (L/(1+con))*(R[indices[i]]/C[0]))\n",
        "  Lstar.insert(0, L/(1+con))\n",
        "  print('Lstar is '+str(Lstar))\n",
        "  MinTaskDelay = Lstar[0]/C[0]\n",
        "  print('MinTaskDelay is '+ str(MinTaskDelay))\n",
        "  Estar = []\n",
        "  Estar.append(0)\n",
        "  for i in range(1,N+1):\n",
        "    # print('Lstar is ' + str(Lstar[i]))\n",
        "    # print('Computing power is '+ str(Pc[indices[i]]))\n",
        "    # print('Computing rate is ' + str(C[indices[i]]))\n",
        "    Estar.append(Lstar[i]*Pc[indices[i]]/C[indices[i]])\n",
        "  regular = 0\n",
        "  for i in range(1,N+1):\n",
        "    # print(R[indices[i]])\n",
        "    # print(Pt[indices[i]])\n",
        "    # print(T[indices[i]])\n",
        "    regular += R[indices[i]]*Pt[indices[i]]/T[indices[i]]\n",
        "  Estar[0] = Lstar[0]*(regular + Pc[0])/C[0]\n",
        "  print('enrgy consumption for terminal node is '+ str(Estar[0]))\n",
        "  EstarTotal = sum(Estar)\n",
        "  print('Energy consumption total is '+str(EstarTotal))\n",
        "  #update historical mean energy consumption and others\n",
        "  upHE=HE\n",
        "  for i in range(1,N+1):\n",
        "    # print('historical energy is '+str(HE[indices[i]]))\n",
        "    # print('Estar is '+str(Estar[i]))\n",
        "    upHE.append(((1-alpha)*upHE[indices[i]]) + (alpha*Estar[i]))\n",
        "  upHE[0]=(1-alpha)*HE[0] + (alpha*Estar[0])\n",
        "  print('updated Historical energy for terminal node and fog nodes is '+ str(upHE))\n",
        "  Tasks.pop(0)\n",
        "#calculate mean task delay and fairness index\n",
        "SumofHE=0\n",
        "SumofSqHE=0\n",
        "for i in range(1,Ntotal+1):\n",
        "  SumofHE+=HE[i]\n",
        "  SumofSqHE+=math.pow(HE[i],2)\n",
        "F = math.pow(SumofHE,2)/(Ntotal*SumofSqHE)\n",
        "upEtotal = (1-alpha)*(SumofHE+HE[0]) + alpha*EstarTotal\n",
        "print('updated total historical enery is '+str(upEtotal))\n",
        "print('Jains Fairness index is ' + str(F))\n",
        "  \n"
      ]
    }
  ],
  "metadata": {
    "colab": {
      "provenance": []
    },
    "kernelspec": {
      "display_name": "Python 3",
      "name": "python3"
    },
    "language_info": {
      "name": "python"
    }
  },
  "nbformat": 4,
  "nbformat_minor": 0
}