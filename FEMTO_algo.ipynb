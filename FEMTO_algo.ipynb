{
  "cells": [
    {
      "cell_type": "code",
      "execution_count": null,
      "metadata": {
        "id": "V4iQamaW6hFQ"
      },
      "outputs": [],
      "source": [
        "import math\n",
        "import numpy as np\n",
        "import matplotlib.pyplot as plt"
      ]
    },
    {
      "cell_type": "markdown",
      "source": [
        "**Defining Class FEMTO which contains the logic for both energy minimized sub algorithm and task offloading algorithm**"
      ],
      "metadata": {
        "id": "Nd5mpUgnCwJF"
      }
    },
    {
      "cell_type": "code",
      "execution_count": null,
      "metadata": {
        "id": "t3RzzQiGoX22"
      },
      "outputs": [],
      "source": [
        "class FEMTO:\n",
        "\n",
        "    def __init__(self,L):\n",
        "        self.W = L[0]\n",
        "        self.N = L[1]\n",
        "        self.l = L[2]\n",
        "        self.dmax = L[3]\n",
        "        self.pmax = L[4]\n",
        "        self.nt = L[5]\n",
        "        self.ft = L[6]\n",
        "        self.thetat = L[7] \n",
        "        self.gamma = L[8]\n",
        "        self.beta = L[9]\n",
        "        self.alpha = L[10] \n",
        "        self.N0 = L[11]\n",
        "        self.E_avg = L[12]\n",
        "        self.n = L[13]\n",
        "        self.f = L[14]\n",
        "        self.theta = L[15]\n",
        "        self.I = L[16]\n",
        "        self.p = L[17]\n",
        "        self.lambda_ = L[18]\n",
        "        self.m = L[19]\n",
        "        self.fl = L[20]\n",
        "\n",
        "    def B(self,i):\n",
        "        return math.log2(1+((self.p[i]*self.gamma*self.beta)/(self.I[i]+ self.W*self.N0)))\n",
        "    \n",
        "    def funP(self,pi,i):\n",
        "        return (self.W*self.B(i)*self.n[i])+self.f[i]+(self.f[i]*(self.n[i]*self.theta[i]-self.nt*self.thetat)*self.W*((self.gamma*self.beta)/(math.log(2)*(self.I[i] + self.W*self.N0 + pi*self.gamma*self.beta))))\n",
        "    \n",
        "    def bisection(self,a,b,threshold,i):\n",
        "        res_a = self.funP(a,i)\n",
        "        res_b = self.funP(b,i)\n",
        "\n",
        "        if(res_a*res_b >= 0):\n",
        "            print(res_a,\" \",res_b,\" Choose correct a and b\")\n",
        "            return 0\n",
        "        res_t = 0\n",
        "        while(abs(a - b) >= threshold):\n",
        "            print(a,\" \",b)\n",
        "            t = (a+b)/2\n",
        "            res_t = self.funP(t,i)\n",
        "            if(res_t == 0.0):\n",
        "                break\n",
        "            if res_t*res_a < 0:\n",
        "                b = t\n",
        "                res_b = res_t\n",
        "            else:\n",
        "                a = t\n",
        "                res_a = res_t\n",
        "        return res_t\n",
        "\n",
        "    def energyMinimizedSubAlgo(self,i):\n",
        "        res = 1\n",
        "        p = 0\n",
        "        l = 0\n",
        "\n",
        "        # x = (self.l*self.nt)\n",
        "        # y =  self.dmax*self.ft\n",
        "        # print(x,y)\n",
        "        p1 = (pow(2,1/(self.W*(((self.dmax*self.nt)/(l*self.nt - self.dmax*self.ft))-(self.n[i]/self.f[i]))) ) - 1 ) * ((self.I[i]+self.W*self.N0)/(self.gamma*self.beta))\n",
        "        \n",
        "        if (p1>self.pmax) or ((self.l/self.dmax) > (self.ft/self.nt)+(self.f[i]/self.n[i])):\n",
        "            return 0,p,l\n",
        "        else :\n",
        "            x = ((self.W*self.gamma*self.beta*(self.n[i]*self.theta[i] - self.nt*self.thetat)))\n",
        "            y = (((self.I[i]+self.W*self.N0)*math.log(2)))\n",
        "            \n",
        "            if (1+(x/y)) >= 0:\n",
        "                p = max(0,p1)\n",
        "            else :\n",
        "                p2 = float('inf')\n",
        "                if((self.l/self.dmax)<=(self.f[i]/self.n[i])):\n",
        "                    p2 = (pow(2,1/(self.W*((self.dmax/self.l)-(self.n[i]/self.f[i]))) ) - 1 ) * ((self.I[i]+self.W*self.N0)/(self.gamma*self.beta))\n",
        "                    p3 = self.bisection(0,self.pmax,0.001,i)\n",
        "                    while p3 == 0:\n",
        "                        a = np.random.rand(0,int(self.pmax))\n",
        "                        b = np.random.rand(0,int(self.pmax))\n",
        "                        p3 = self.bisection(a,b,0.001,i)\n",
        "                p = min(min(pmax,p2),max(p1,p3))\n",
        "            \n",
        "            x = (p*self.gamma*self.beta)/(self.I[i]+self.W*self.N0)\n",
        "            l = self.dmax/((1/self.W*math.log2(1+x))+(self.n[i]/self.f[i]))\n",
        "        self.p[0] = p\n",
        "        return res,l,p\n",
        "    \n",
        "    def offloadingAlgo(self):\n",
        "        C = []\n",
        "        T = []\n",
        "        S = []\n",
        "        M = []\n",
        "\n",
        "        if len(C) == 0 :\n",
        "            print(\" No available idle FNs at this moment. \")\n",
        "        else :\n",
        "            for i in C:\n",
        "                #check fesibility\n",
        "                res,self.p[i],self.fl[i] = self.energyMinimizedSubAlgo(i)\n",
        "                if res == 1 : #if feasible perform the following algorithm\n",
        "                    # calculate energy consumption \n",
        "                    E_cur = (self.l*self.nt*self.thetat) + self.dmax*self.f[i]*((self.p[i] + ((self.n[i]*self.theta[i] - self.nt-self.thetat)*self.W*self.B(i)))/(self.f[i] + (self.W*self.n[i]*self.B(i))))\n",
        "                    # calculate fairness metric\n",
        "                    self.m[i] = self.lamda_[i]/(self.E_avg[i-1]*E_cur)\n",
        "                    # update T,S,M ( node number, optimal parameters, fairness metric )\n",
        "                    T.append(i)\n",
        "                    S.append((self.p[i],self.fl[i]))\n",
        "                    M.append(self.m[i])\n",
        "            \n",
        "            # if set T is empty, there is no feasible fog node \n",
        "            if len(T) == 0 :\n",
        "                print(\" No feasible task offloading services at this moment. \")\n",
        "            else :\n",
        "                #selct node with highest fairness metric and update historic energy consumption\n",
        "                index = M.index()\n",
        "                E_cur = (self.l*self.nt*self.thetat) + self.dmax*self.f[index]*((S[index][0] + ((self.n[index]*self.theta[index] - self.nt-self.thetat)*self.W*self.B(index)))/(self.f[index] + (self.W*self.n[index]*self.B(i))))\n",
        "                self.E_avg[index] = (1- alpha) * self.E_avg[index] + (self.alpha * E_cur)\n",
        "                return self.T[index],self.S[index] # return fog node index and solution parameters"
      ]
    },
    {
      "cell_type": "markdown",
      "source": [
        "**Testing optimal offloading algorithm for custom input**"
      ],
      "metadata": {
        "id": "sONWaNF-BSI0"
      }
    },
    {
      "cell_type": "code",
      "execution_count": null,
      "metadata": {
        "colab": {
          "base_uri": "https://localhost:8080/"
        },
        "id": "NMAHDMZl_f0g",
        "outputId": "0124755e-4193-4a3e-c79f-98a633395abd"
      },
      "outputs": [
        {
          "output_type": "stream",
          "name": "stdout",
          "text": [
            "Optimal task size :  26982148.252806094 \n",
            "Optimal tranmission power from TN to FN :  0\n",
            "Overall energy consumption for offloading to given fog node:  8.0\n"
          ]
        }
      ],
      "source": [
        "# W,N,l,dmax,pmax,nt,ft,thetat,gamma,beta,alpha,N0,E_avg,ni,fi,thetai,    Ii, p, lambda, m, fl\n",
        "# 0,1,2,3,   4,   5,  6,7,     8,    9,   10,  11, 12,   13,14,    15,    16, 17, 18,    19, 20\n",
        "l = [10000000.0, 1.0, 16000000.0, 10.0, 1.0, 1000.0, 2000000000.0, 5e-10, 2.12, -0.165, 0.002, -0.21798, [0.0], [1853.077061601279], [5000000000.0], [1e-10], [-0.05418], [0.0], [1.0], [0.0], [0.0]]\n",
        "v = FEMTO(l)\n",
        "res,li,p = v.energyMinimizedSubAlgo(0)\n",
        "print(\"Optimal task size : \",li,\"\\nOptimal tranmission power from TN to FN : \", p)\n",
        "x = (l[2]*l[5]*l[7])\n",
        "# print(x)\n",
        "E_cur = x + l[3]*l[14][0]*((p + ((l[13][0]*l[15][0] - l[5]-l[7])*l[0]*v.B(0)))/(l[14][0] + (l[0]*l[13][0]*v.B(0))))\n",
        "print(\"Overall energy consumption for offloading to given fog node: \",E_cur)"
      ]
    },
    {
      "cell_type": "markdown",
      "source": [
        "**Code to generate test data for tesing optimal offloading algorithm**"
      ],
      "metadata": {
        "id": "XqLYP-XSBGD2"
      }
    },
    {
      "cell_type": "code",
      "execution_count": null,
      "metadata": {
        "id": "Fv8cTT6fmy61"
      },
      "outputs": [],
      "source": [
        "#Graph - 1\n",
        "file1 = open('testParse.txt', 'w')\n",
        "W = 10000000\n",
        "N = 1\n",
        "dmax = 10\n",
        "pmax = 1\n",
        "nt = 1000\n",
        "ft = 2000000000\n",
        "thetat = 0.0000000005\n",
        "gamma = 2.12\n",
        "beta = -0.165\n",
        "alpha = 0.002\n",
        "N0 = -0.21798\n",
        "E_avg = [0 for i in range(N)]\n",
        "f = [5000000000 for i in range(N)]\n",
        "theta = [0.0000000001 for i in range(N)]\n",
        "I = [-0.05418 for i in range(N)]\n",
        "p = [0 for i in range(N)]\n",
        "lambda_ = [1 for i in range(N)]\n",
        "m = [0 for i in range(N)]\n",
        "fl = [0 for i in range(N)]\n",
        "\n",
        "l = [16000000,32000000,48000000,64000000]\n",
        "for i in l:\n",
        "    n = np.random.uniform(200,2000,100).tolist()\n",
        "    for j in range(100):\n",
        "        temp = [n[j]]\n",
        "        file1.write(str(W)+\" : \")\n",
        "        file1.write(str(N)+\" : \")\n",
        "        file1.write(str(i)+\" : \")\n",
        "        file1.write(str(dmax)+\" : \")\n",
        "        file1.write(str(pmax)+\" : \")\n",
        "        file1.write(str(nt)+\" : \")\n",
        "        file1.write(str(ft)+\" : \")\n",
        "        file1.write(str(thetat)+\" : \")\n",
        "        file1.write(str(gamma)+\" : \")\n",
        "        file1.write(str(beta)+\" : \")\n",
        "        file1.write(str(alpha)+\" : \")\n",
        "        file1.write(str(N0)+\" : \")\n",
        "        file1.write(str(E_avg)+\" : \")\n",
        "        file1.write(str(temp)+\" : \")\n",
        "        file1.write(str(f)+\" : \")\n",
        "        file1.write(str(theta)+\" : \")\n",
        "        file1.write(str(I)+\" : \")\n",
        "        file1.write(str(p)+\" : \")\n",
        "        file1.write(str(lambda_)+\" : \")\n",
        "        file1.write(str(m)+\" : \")\n",
        "        file1.write(str(fl)+\" : \")\n",
        "        file1.write('\\n')\n",
        "file1.close()"
      ]
    },
    {
      "cell_type": "markdown",
      "source": [
        "**Code to parse text file and testing optimal offloading algorithm**"
      ],
      "metadata": {
        "id": "Tapiuhp4_En4"
      }
    },
    {
      "cell_type": "code",
      "execution_count": null,
      "metadata": {
        "id": "IM-_xThrvju3"
      },
      "outputs": [],
      "source": [
        "def stringToInt(s):\n",
        "    return float(float(s))\n"
      ]
    },
    {
      "cell_type": "code",
      "execution_count": null,
      "metadata": {
        "id": "UxjaQJLCf9_g"
      },
      "outputs": [],
      "source": [
        "file1 = open('testParse.txt', 'r')\n",
        "x = []\n",
        "y = []\n",
        "for line in file1:\n",
        "    line = line.strip(\" : \\n\")\n",
        "    l = line.split(\" : \")\n",
        "    for i in range(12):\n",
        "        l[i] = stringToInt(l[i])\n",
        "    for i in range(12,len(l)):\n",
        "        l[i] = l[i].replace('[','').replace(']','')\n",
        "        l[i] = l[i].split(\", \")\n",
        "        # print(l[i])\n",
        "        l[i] = [stringToInt(l[i][j]) for j in range(len(l[i]))]\n",
        "    v = FEMTO(l)\n",
        "    res,li,p = v.energyMinimizedSubAlgo(0)\n",
        "    # print(l)\n",
        "    E_cur = (l[2]*l[5]*l[7]) + l[3]*l[14][0]*((p + ((l[13][0]*l[15][0] - l[5]-l[7])*l[0]*v.B(0)))/(l[14][0] + (l[0]*l[13][0]*v.B(0))))\n",
        "    # print(E_cur)\n",
        "    # print(x,l[13][0])\n",
        "    x.append(l[13][0])\n",
        "    y.append(E_cur)\n",
        "\n",
        "# for i in range(len(x)):\n",
        "#     print(x[i],\" \",y[i])\n"
      ]
    },
    {
      "cell_type": "markdown",
      "source": [
        "**Plotting ni(CPU cycles required to process 1 bit data at Fog node i) Vs. Overall offloading energy consumption**"
      ],
      "metadata": {
        "id": "VeUtNjo4Tdhz"
      }
    },
    {
      "cell_type": "code",
      "source": [
        "\n",
        "\n",
        "upper = 30\n",
        "middle = 20\n",
        "lower = 10\n",
        "\n",
        "x = np.array(x)\n",
        "y = np.array(y)\n",
        "\n",
        "\n",
        "supper = np.ma.masked_where(y < upper, y)\n",
        "slower = np.ma.masked_where(y > lower, y)\n",
        "smiddle1 = np.ma.masked_where((y < middle) | (y > upper), y)\n",
        "smiddle2 = np.ma.masked_where((y < lower) | (y > middle), y)\n",
        "\n",
        "fig, ax = plt.subplots()\n",
        "ax.plot(x,smiddle1,color = 'green')\n",
        "ax.plot(x,smiddle2,color = 'blue')\n",
        "ax.plot(x,slower,color = 'orange')\n",
        "ax.plot(x,supper,color = 'red')\n",
        "ax.legend(loc = 'upper left')\n",
        "plt.xlabel(\"ni\")\n",
        "plt.ylabel(\"Energy Consumption\")\n",
        "plt.show()\n"
      ],
      "metadata": {
        "colab": {
          "base_uri": "https://localhost:8080/",
          "height": 296
        },
        "id": "bRTNA642Q3vl",
        "outputId": "ada15431-d481-446d-e73f-dfc66c269538"
      },
      "execution_count": null,
      "outputs": [
        {
          "output_type": "stream",
          "name": "stderr",
          "text": [
            "WARNING:matplotlib.legend:No handles with labels found to put in legend.\n"
          ]
        },
        {
          "output_type": "display_data",
          "data": {
            "text/plain": [
              "<Figure size 432x288 with 1 Axes>"
            ],
            "image/png": "[encoded data removed]"
          },
          "metadata": {
            "needs_background": "light"
          }
        }
      ]
    }
  ],
  "metadata": {
    "colab": {
      "provenance": []
    },
    "kernelspec": {
      "display_name": "Python 3",
      "name": "python3"
    },
    "language_info": {
      "name": "python"
    }
  },
  "nbformat": 4,
  "nbformat_minor": 0
}